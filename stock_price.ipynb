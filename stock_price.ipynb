{
  "nbformat": 4,
  "nbformat_minor": 0,
  "metadata": {
    "colab": {
      "provenance": [],
      "authorship_tag": "ABX9TyNC8sRej4DaqhGG51Bm6FsI",
      "include_colab_link": true
    },
    "kernelspec": {
      "name": "python3",
      "display_name": "Python 3"
    },
    "language_info": {
      "name": "python"
    }
  },
  "cells": [
    {
      "cell_type": "markdown",
      "metadata": {
        "id": "view-in-github",
        "colab_type": "text"
      },
      "source": [
        "<a href=\"https://colab.research.google.com/github/Indranil301/misclaneous/blob/main/stock_price.ipynb\" target=\"_parent\"><img src=\"https://colab.research.google.com/assets/colab-badge.svg\" alt=\"Open In Colab\"/></a>"
      ]
    },
    {
      "cell_type": "code",
      "execution_count": 1,
      "metadata": {
        "id": "hEnHCdAIF1BH"
      },
      "outputs": [],
      "source": [
        "import pandas as pd\n",
        "import numpy as np\n",
        "import requests\n",
        "import math"
      ]
    },
    {
      "cell_type": "code",
      "source": [
        "import yfinance as yt"
      ],
      "metadata": {
        "id": "AksHQOEXGan-"
      },
      "execution_count": 6,
      "outputs": []
    },
    {
      "cell_type": "code",
      "source": [
        "!pip install missingno\n",
        "import missingno as msna"
      ],
      "metadata": {
        "colab": {
          "base_uri": "https://localhost:8080/"
        },
        "id": "aLx57jkIWYb7",
        "outputId": "19124152-249b-4d2c-c2ec-30cc7127a340"
      },
      "execution_count": 38,
      "outputs": [
        {
          "output_type": "stream",
          "name": "stdout",
          "text": [
            "Looking in indexes: https://pypi.org/simple, https://us-python.pkg.dev/colab-wheels/public/simple/\n",
            "Requirement already satisfied: missingno in /usr/local/lib/python3.8/dist-packages (0.5.1)\n",
            "Requirement already satisfied: numpy in /usr/local/lib/python3.8/dist-packages (from missingno) (1.22.4)\n",
            "Requirement already satisfied: scipy in /usr/local/lib/python3.8/dist-packages (from missingno) (1.7.3)\n",
            "Requirement already satisfied: matplotlib in /usr/local/lib/python3.8/dist-packages (from missingno) (3.5.3)\n",
            "Requirement already satisfied: seaborn in /usr/local/lib/python3.8/dist-packages (from missingno) (0.11.2)\n",
            "Requirement already satisfied: kiwisolver>=1.0.1 in /usr/local/lib/python3.8/dist-packages (from matplotlib->missingno) (1.4.4)\n",
            "Requirement already satisfied: python-dateutil>=2.7 in /usr/local/lib/python3.8/dist-packages (from matplotlib->missingno) (2.8.2)\n",
            "Requirement already satisfied: packaging>=20.0 in /usr/local/lib/python3.8/dist-packages (from matplotlib->missingno) (23.0)\n",
            "Requirement already satisfied: pillow>=6.2.0 in /usr/local/lib/python3.8/dist-packages (from matplotlib->missingno) (7.1.2)\n",
            "Requirement already satisfied: fonttools>=4.22.0 in /usr/local/lib/python3.8/dist-packages (from matplotlib->missingno) (4.38.0)\n",
            "Requirement already satisfied: cycler>=0.10 in /usr/local/lib/python3.8/dist-packages (from matplotlib->missingno) (0.11.0)\n",
            "Requirement already satisfied: pyparsing>=2.2.1 in /usr/local/lib/python3.8/dist-packages (from matplotlib->missingno) (3.0.9)\n",
            "Requirement already satisfied: pandas>=0.23 in /usr/local/lib/python3.8/dist-packages (from seaborn->missingno) (1.3.5)\n",
            "Requirement already satisfied: pytz>=2017.3 in /usr/local/lib/python3.8/dist-packages (from pandas>=0.23->seaborn->missingno) (2022.7.1)\n",
            "Requirement already satisfied: six>=1.5 in /usr/local/lib/python3.8/dist-packages (from python-dateutil>=2.7->matplotlib->missingno) (1.15.0)\n"
          ]
        }
      ]
    },
    {
      "cell_type": "code",
      "source": [
        "stocks = pd.read_csv(\"/content/sp_500_stocks.csv\")\n",
        "print(stocks)"
      ],
      "metadata": {
        "colab": {
          "base_uri": "https://localhost:8080/"
        },
        "id": "6Byb53bHGMKG",
        "outputId": "2870bdc1-e215-46ff-c083-95d09af9b1dd"
      },
      "execution_count": 2,
      "outputs": [
        {
          "output_type": "stream",
          "name": "stdout",
          "text": [
            "    Ticker\n",
            "0        A\n",
            "1      AAL\n",
            "2      AAP\n",
            "3     AAPL\n",
            "4     ABBV\n",
            "..     ...\n",
            "500    YUM\n",
            "501    ZBH\n",
            "502   ZBRA\n",
            "503   ZION\n",
            "504    ZTS\n",
            "\n",
            "[505 rows x 1 columns]\n"
          ]
        }
      ]
    },
    {
      "cell_type": "code",
      "source": [
        "j = [i for i in stocks[\"Ticker\"].values]"
      ],
      "metadata": {
        "id": "MlPhBwasHQ0I"
      },
      "execution_count": 30,
      "outputs": []
    },
    {
      "cell_type": "code",
      "source": [
        "stock_price= yt.download(j, start=\"2010-01-1\", end=\"2021-01-01\")"
      ],
      "metadata": {
        "colab": {
          "base_uri": "https://localhost:8080/"
        },
        "id": "RrJRzQyaGszh",
        "outputId": "14590711-5052-46a2-de91-d2b4317a3085"
      },
      "execution_count": 31,
      "outputs": [
        {
          "output_type": "stream",
          "name": "stdout",
          "text": [
            "[*********************100%***********************]  505 of 505 completed\n",
            "\n",
            "32 Failed downloads:\n",
            "- FLIR: No timezone found, symbol may be delisted\n",
            "- MYL: No timezone found, symbol may be delisted\n",
            "- HFC: No timezone found, symbol may be delisted\n",
            "- KSU: No timezone found, symbol may be delisted\n",
            "- CERN: No timezone found, symbol may be delisted\n",
            "- NLSN: No timezone found, symbol may be delisted\n",
            "- MXIM: No timezone found, symbol may be delisted\n",
            "- DRE: No timezone found, symbol may be delisted\n",
            "- WLTW: No timezone found, symbol may be delisted\n",
            "- NLOK: No timezone found, symbol may be delisted\n",
            "- CXO: No timezone found, symbol may be delisted\n",
            "- ETFC: No timezone found, symbol may be delisted\n",
            "- FBHS: No timezone found, symbol may be delisted\n",
            "- BF.B: No data found for this date range, symbol may be delisted\n",
            "- COG: No timezone found, symbol may be delisted\n",
            "- BRK.B: No timezone found, symbol may be delisted\n",
            "- BLL: No timezone found, symbol may be delisted\n",
            "- DISCK: No timezone found, symbol may be delisted\n",
            "- ANTM: No timezone found, symbol may be delisted\n",
            "- VAR: No timezone found, symbol may be delisted\n",
            "- LB: No timezone found, symbol may be delisted\n",
            "- CTL: No timezone found, symbol may be delisted\n",
            "- FB: No timezone found, symbol may be delisted\n",
            "- XLNX: No timezone found, symbol may be delisted\n",
            "- ALXN: No timezone found, symbol may be delisted\n",
            "- VIAC: No timezone found, symbol may be delisted\n",
            "- PBCT: No timezone found, symbol may be delisted\n",
            "- TIF: No timezone found, symbol may be delisted\n",
            "- NBL: No timezone found, symbol may be delisted\n",
            "- DISCA: No timezone found, symbol may be delisted\n",
            "- INFO: No timezone found, symbol may be delisted\n",
            "- CTXS: No timezone found, symbol may be delisted\n"
          ]
        }
      ]
    },
    {
      "cell_type": "code",
      "source": [
        "stock_price.shape"
      ],
      "metadata": {
        "colab": {
          "base_uri": "https://localhost:8080/"
        },
        "id": "qT3v3LpOHZTP",
        "outputId": "262a4445-3fbf-4fdc-992d-16305aa6810c"
      },
      "execution_count": 34,
      "outputs": [
        {
          "output_type": "execute_result",
          "data": {
            "text/plain": [
              "(2769, 3030)"
            ]
          },
          "metadata": {},
          "execution_count": 34
        }
      ]
    },
    {
      "cell_type": "code",
      "source": [
        "stock_price.head(5)"
      ],
      "metadata": {
        "colab": {
          "base_uri": "https://localhost:8080/",
          "height": 342
        },
        "id": "tN8NIrkXJD2v",
        "outputId": "e4a9d0e8-bd9d-4754-c5df-66fa9f895aec"
      },
      "execution_count": 36,
      "outputs": [
        {
          "output_type": "execute_result",
          "data": {
            "text/plain": [
              "            Adj Close                                                       \\\n",
              "                    A       AAL        AAP      AAPL ABBV        ABC  ABMD   \n",
              "Date                                                                         \n",
              "2010-01-04  20.301353  4.496877  37.163273  6.505281  NaN  21.831717  8.74   \n",
              "2010-01-05  20.080832  5.005957  36.942387  6.516527  NaN  21.675951  8.53   \n",
              "2010-01-06  20.009483  4.798553  37.264500  6.412874  NaN  21.470999  8.40   \n",
              "2010-01-07  19.983545  4.939965  37.255295  6.401019  NaN  21.126684  8.40   \n",
              "2010-01-08  19.977057  4.845692  37.402557  6.443573  NaN  21.356230  8.23   \n",
              "\n",
              "                                             ... Volume                     \\\n",
              "                  ABT        ACN       ADBE  ...   XLNX       XOM     XRAY   \n",
              "Date                                         ...                             \n",
              "2010-01-04  19.433033  32.836597  37.090000  ...    NaN  27809100  1051400   \n",
              "2010-01-05  19.276031  33.039551  37.700001  ...    NaN  30174700   763400   \n",
              "2010-01-06  19.383080  33.390774  37.619999  ...    NaN  35044700  1595100   \n",
              "2010-01-07  19.543659  33.359550  36.889999  ...    NaN  27192100  1096100   \n",
              "2010-01-08  19.643566  33.226868  36.689999  ...    NaN  24891800   803600   \n",
              "\n",
              "                                                                 \n",
              "                XRX XYL      YUM      ZBH    ZBRA      ZION ZTS  \n",
              "Date                                                             \n",
              "2010-01-04  5112890 NaN  2962274   805872  168800   3974600 NaN  \n",
              "2010-01-05  3255844 NaN  3298757  1769643  168800   5605500 NaN  \n",
              "2010-01-06  2634375 NaN  4178981  1315619  385300  12615200 NaN  \n",
              "2010-01-07  4508536 NaN  2452472  1734005  183600  24716800 NaN  \n",
              "2010-01-08  2460109 NaN  3772392  2213985  266500   6903000 NaN  \n",
              "\n",
              "[5 rows x 3030 columns]"
            ],
            "text/html": [
              "\n",
              "  <div id=\"df-90532b34-0bf2-4901-9dae-c5ad9ff1eaf4\">\n",
              "    <div class=\"colab-df-container\">\n",
              "      <div>\n",
              "<style scoped>\n",
              "    .dataframe tbody tr th:only-of-type {\n",
              "        vertical-align: middle;\n",
              "    }\n",
              "\n",
              "    .dataframe tbody tr th {\n",
              "        vertical-align: top;\n",
              "    }\n",
              "\n",
              "    .dataframe thead tr th {\n",
              "        text-align: left;\n",
              "    }\n",
              "\n",
              "    .dataframe thead tr:last-of-type th {\n",
              "        text-align: right;\n",
              "    }\n",
              "</style>\n",
              "<table border=\"1\" class=\"dataframe\">\n",
              "  <thead>\n",
              "    <tr>\n",
              "      <th></th>\n",
              "      <th colspan=\"10\" halign=\"left\">Adj Close</th>\n",
              "      <th>...</th>\n",
              "      <th colspan=\"10\" halign=\"left\">Volume</th>\n",
              "    </tr>\n",
              "    <tr>\n",
              "      <th></th>\n",
              "      <th>A</th>\n",
              "      <th>AAL</th>\n",
              "      <th>AAP</th>\n",
              "      <th>AAPL</th>\n",
              "      <th>ABBV</th>\n",
              "      <th>ABC</th>\n",
              "      <th>ABMD</th>\n",
              "      <th>ABT</th>\n",
              "      <th>ACN</th>\n",
              "      <th>ADBE</th>\n",
              "      <th>...</th>\n",
              "      <th>XLNX</th>\n",
              "      <th>XOM</th>\n",
              "      <th>XRAY</th>\n",
              "      <th>XRX</th>\n",
              "      <th>XYL</th>\n",
              "      <th>YUM</th>\n",
              "      <th>ZBH</th>\n",
              "      <th>ZBRA</th>\n",
              "      <th>ZION</th>\n",
              "      <th>ZTS</th>\n",
              "    </tr>\n",
              "    <tr>\n",
              "      <th>Date</th>\n",
              "      <th></th>\n",
              "      <th></th>\n",
              "      <th></th>\n",
              "      <th></th>\n",
              "      <th></th>\n",
              "      <th></th>\n",
              "      <th></th>\n",
              "      <th></th>\n",
              "      <th></th>\n",
              "      <th></th>\n",
              "      <th></th>\n",
              "      <th></th>\n",
              "      <th></th>\n",
              "      <th></th>\n",
              "      <th></th>\n",
              "      <th></th>\n",
              "      <th></th>\n",
              "      <th></th>\n",
              "      <th></th>\n",
              "      <th></th>\n",
              "      <th></th>\n",
              "    </tr>\n",
              "  </thead>\n",
              "  <tbody>\n",
              "    <tr>\n",
              "      <th>2010-01-04</th>\n",
              "      <td>20.301353</td>\n",
              "      <td>4.496877</td>\n",
              "      <td>37.163273</td>\n",
              "      <td>6.505281</td>\n",
              "      <td>NaN</td>\n",
              "      <td>21.831717</td>\n",
              "      <td>8.74</td>\n",
              "      <td>19.433033</td>\n",
              "      <td>32.836597</td>\n",
              "      <td>37.090000</td>\n",
              "      <td>...</td>\n",
              "      <td>NaN</td>\n",
              "      <td>27809100</td>\n",
              "      <td>1051400</td>\n",
              "      <td>5112890</td>\n",
              "      <td>NaN</td>\n",
              "      <td>2962274</td>\n",
              "      <td>805872</td>\n",
              "      <td>168800</td>\n",
              "      <td>3974600</td>\n",
              "      <td>NaN</td>\n",
              "    </tr>\n",
              "    <tr>\n",
              "      <th>2010-01-05</th>\n",
              "      <td>20.080832</td>\n",
              "      <td>5.005957</td>\n",
              "      <td>36.942387</td>\n",
              "      <td>6.516527</td>\n",
              "      <td>NaN</td>\n",
              "      <td>21.675951</td>\n",
              "      <td>8.53</td>\n",
              "      <td>19.276031</td>\n",
              "      <td>33.039551</td>\n",
              "      <td>37.700001</td>\n",
              "      <td>...</td>\n",
              "      <td>NaN</td>\n",
              "      <td>30174700</td>\n",
              "      <td>763400</td>\n",
              "      <td>3255844</td>\n",
              "      <td>NaN</td>\n",
              "      <td>3298757</td>\n",
              "      <td>1769643</td>\n",
              "      <td>168800</td>\n",
              "      <td>5605500</td>\n",
              "      <td>NaN</td>\n",
              "    </tr>\n",
              "    <tr>\n",
              "      <th>2010-01-06</th>\n",
              "      <td>20.009483</td>\n",
              "      <td>4.798553</td>\n",
              "      <td>37.264500</td>\n",
              "      <td>6.412874</td>\n",
              "      <td>NaN</td>\n",
              "      <td>21.470999</td>\n",
              "      <td>8.40</td>\n",
              "      <td>19.383080</td>\n",
              "      <td>33.390774</td>\n",
              "      <td>37.619999</td>\n",
              "      <td>...</td>\n",
              "      <td>NaN</td>\n",
              "      <td>35044700</td>\n",
              "      <td>1595100</td>\n",
              "      <td>2634375</td>\n",
              "      <td>NaN</td>\n",
              "      <td>4178981</td>\n",
              "      <td>1315619</td>\n",
              "      <td>385300</td>\n",
              "      <td>12615200</td>\n",
              "      <td>NaN</td>\n",
              "    </tr>\n",
              "    <tr>\n",
              "      <th>2010-01-07</th>\n",
              "      <td>19.983545</td>\n",
              "      <td>4.939965</td>\n",
              "      <td>37.255295</td>\n",
              "      <td>6.401019</td>\n",
              "      <td>NaN</td>\n",
              "      <td>21.126684</td>\n",
              "      <td>8.40</td>\n",
              "      <td>19.543659</td>\n",
              "      <td>33.359550</td>\n",
              "      <td>36.889999</td>\n",
              "      <td>...</td>\n",
              "      <td>NaN</td>\n",
              "      <td>27192100</td>\n",
              "      <td>1096100</td>\n",
              "      <td>4508536</td>\n",
              "      <td>NaN</td>\n",
              "      <td>2452472</td>\n",
              "      <td>1734005</td>\n",
              "      <td>183600</td>\n",
              "      <td>24716800</td>\n",
              "      <td>NaN</td>\n",
              "    </tr>\n",
              "    <tr>\n",
              "      <th>2010-01-08</th>\n",
              "      <td>19.977057</td>\n",
              "      <td>4.845692</td>\n",
              "      <td>37.402557</td>\n",
              "      <td>6.443573</td>\n",
              "      <td>NaN</td>\n",
              "      <td>21.356230</td>\n",
              "      <td>8.23</td>\n",
              "      <td>19.643566</td>\n",
              "      <td>33.226868</td>\n",
              "      <td>36.689999</td>\n",
              "      <td>...</td>\n",
              "      <td>NaN</td>\n",
              "      <td>24891800</td>\n",
              "      <td>803600</td>\n",
              "      <td>2460109</td>\n",
              "      <td>NaN</td>\n",
              "      <td>3772392</td>\n",
              "      <td>2213985</td>\n",
              "      <td>266500</td>\n",
              "      <td>6903000</td>\n",
              "      <td>NaN</td>\n",
              "    </tr>\n",
              "  </tbody>\n",
              "</table>\n",
              "<p>5 rows × 3030 columns</p>\n",
              "</div>\n",
              "      <button class=\"colab-df-convert\" onclick=\"convertToInteractive('df-90532b34-0bf2-4901-9dae-c5ad9ff1eaf4')\"\n",
              "              title=\"Convert this dataframe to an interactive table.\"\n",
              "              style=\"display:none;\">\n",
              "        \n",
              "  <svg xmlns=\"http://www.w3.org/2000/svg\" height=\"24px\"viewBox=\"0 0 24 24\"\n",
              "       width=\"24px\">\n",
              "    <path d=\"M0 0h24v24H0V0z\" fill=\"none\"/>\n",
              "    <path d=\"M18.56 5.44l.94 2.06.94-2.06 2.06-.94-2.06-.94-.94-2.06-.94 2.06-2.06.94zm-11 1L8.5 8.5l.94-2.06 2.06-.94-2.06-.94L8.5 2.5l-.94 2.06-2.06.94zm10 10l.94 2.06.94-2.06 2.06-.94-2.06-.94-.94-2.06-.94 2.06-2.06.94z\"/><path d=\"M17.41 7.96l-1.37-1.37c-.4-.4-.92-.59-1.43-.59-.52 0-1.04.2-1.43.59L10.3 9.45l-7.72 7.72c-.78.78-.78 2.05 0 2.83L4 21.41c.39.39.9.59 1.41.59.51 0 1.02-.2 1.41-.59l7.78-7.78 2.81-2.81c.8-.78.8-2.07 0-2.86zM5.41 20L4 18.59l7.72-7.72 1.47 1.35L5.41 20z\"/>\n",
              "  </svg>\n",
              "      </button>\n",
              "      \n",
              "  <style>\n",
              "    .colab-df-container {\n",
              "      display:flex;\n",
              "      flex-wrap:wrap;\n",
              "      gap: 12px;\n",
              "    }\n",
              "\n",
              "    .colab-df-convert {\n",
              "      background-color: #E8F0FE;\n",
              "      border: none;\n",
              "      border-radius: 50%;\n",
              "      cursor: pointer;\n",
              "      display: none;\n",
              "      fill: #1967D2;\n",
              "      height: 32px;\n",
              "      padding: 0 0 0 0;\n",
              "      width: 32px;\n",
              "    }\n",
              "\n",
              "    .colab-df-convert:hover {\n",
              "      background-color: #E2EBFA;\n",
              "      box-shadow: 0px 1px 2px rgba(60, 64, 67, 0.3), 0px 1px 3px 1px rgba(60, 64, 67, 0.15);\n",
              "      fill: #174EA6;\n",
              "    }\n",
              "\n",
              "    [theme=dark] .colab-df-convert {\n",
              "      background-color: #3B4455;\n",
              "      fill: #D2E3FC;\n",
              "    }\n",
              "\n",
              "    [theme=dark] .colab-df-convert:hover {\n",
              "      background-color: #434B5C;\n",
              "      box-shadow: 0px 1px 3px 1px rgba(0, 0, 0, 0.15);\n",
              "      filter: drop-shadow(0px 1px 2px rgba(0, 0, 0, 0.3));\n",
              "      fill: #FFFFFF;\n",
              "    }\n",
              "  </style>\n",
              "\n",
              "      <script>\n",
              "        const buttonEl =\n",
              "          document.querySelector('#df-90532b34-0bf2-4901-9dae-c5ad9ff1eaf4 button.colab-df-convert');\n",
              "        buttonEl.style.display =\n",
              "          google.colab.kernel.accessAllowed ? 'block' : 'none';\n",
              "\n",
              "        async function convertToInteractive(key) {\n",
              "          const element = document.querySelector('#df-90532b34-0bf2-4901-9dae-c5ad9ff1eaf4');\n",
              "          const dataTable =\n",
              "            await google.colab.kernel.invokeFunction('convertToInteractive',\n",
              "                                                     [key], {});\n",
              "          if (!dataTable) return;\n",
              "\n",
              "          const docLinkHtml = 'Like what you see? Visit the ' +\n",
              "            '<a target=\"_blank\" href=https://colab.research.google.com/notebooks/data_table.ipynb>data table notebook</a>'\n",
              "            + ' to learn more about interactive tables.';\n",
              "          element.innerHTML = '';\n",
              "          dataTable['output_type'] = 'display_data';\n",
              "          await google.colab.output.renderOutput(dataTable, element);\n",
              "          const docLink = document.createElement('div');\n",
              "          docLink.innerHTML = docLinkHtml;\n",
              "          element.appendChild(docLink);\n",
              "        }\n",
              "      </script>\n",
              "    </div>\n",
              "  </div>\n",
              "  "
            ]
          },
          "metadata": {},
          "execution_count": 36
        }
      ]
    },
    {
      "cell_type": "code",
      "source": [
        "stock_price.info()"
      ],
      "metadata": {
        "colab": {
          "base_uri": "https://localhost:8080/"
        },
        "id": "T9ljNx74UBdp",
        "outputId": "c4e2052b-2685-4cfd-ce83-4f39164f9099"
      },
      "execution_count": 37,
      "outputs": [
        {
          "output_type": "stream",
          "name": "stdout",
          "text": [
            "<class 'pandas.core.frame.DataFrame'>\n",
            "DatetimeIndex: 2769 entries, 2010-01-04 to 2020-12-31\n",
            "Columns: 3030 entries, ('Adj Close', 'A') to ('Volume', 'ZTS')\n",
            "dtypes: float64(2605), int64(425)\n",
            "memory usage: 64.0 MB\n"
          ]
        }
      ]
    },
    {
      "cell_type": "code",
      "source": [
        "stock_price.isnull().sum()"
      ],
      "metadata": {
        "colab": {
          "base_uri": "https://localhost:8080/"
        },
        "id": "72ghOCE2WVJT",
        "outputId": "7207373b-7316-4014-9cdc-be030c7f670a"
      },
      "execution_count": 45,
      "outputs": [
        {
          "output_type": "execute_result",
          "data": {
            "text/plain": [
              "Adj Close  A         0\n",
              "           AAL       0\n",
              "           AAP       0\n",
              "           AAPL      0\n",
              "           ABBV    754\n",
              "                  ... \n",
              "Volume     YUM       0\n",
              "           ZBH       0\n",
              "           ZBRA      0\n",
              "           ZION      0\n",
              "           ZTS     775\n",
              "Length: 3030, dtype: int64"
            ]
          },
          "metadata": {},
          "execution_count": 45
        }
      ]
    },
    {
      "cell_type": "code",
      "source": [],
      "metadata": {
        "id": "ixaOabrxZ6ML"
      },
      "execution_count": null,
      "outputs": []
    }
  ]
}